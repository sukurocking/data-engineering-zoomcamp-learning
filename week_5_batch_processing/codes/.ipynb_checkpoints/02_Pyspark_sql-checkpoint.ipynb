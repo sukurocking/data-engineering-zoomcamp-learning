{
 "cells": [
  {
   "cell_type": "code",
   "execution_count": 1,
   "id": "f6e2e161",
   "metadata": {},
   "outputs": [],
   "source": [
    "### Steps of a sample mini-project on creating a report on green and yellow taxi data\n",
    "# 1. Reading data from pq folder (both yellow and green taxi data)\n",
    "# 2. Picking the common columns from both yellow and green taxi data\n",
    "# 3. Merging the yellow and green taxi data\n",
    "# 4. Summarizing the yellow and green taxi data with no. of records, sum trip amount"
   ]
  },
  {
   "cell_type": "code",
   "execution_count": 2,
   "id": "fae65ddd",
   "metadata": {},
   "outputs": [
    {
     "name": "stderr",
     "output_type": "stream",
     "text": [
      "23/07/16 19:52:34 WARN Utils: Your hostname, MacBook-Air-2.local resolves to a loopback address: 127.0.0.1; using 192.168.29.110 instead (on interface en0)\n",
      "23/07/16 19:52:34 WARN Utils: Set SPARK_LOCAL_IP if you need to bind to another address\n",
      "Setting default log level to \"WARN\".\n",
      "To adjust logging level use sc.setLogLevel(newLevel). For SparkR, use setLogLevel(newLevel).\n",
      "23/07/16 19:52:36 WARN NativeCodeLoader: Unable to load native-hadoop library for your platform... using builtin-java classes where applicable\n"
     ]
    }
   ],
   "source": [
    "# Below step reads the csv.gz file and converts to parquet format\n",
    "# This may not be required in the final code \n",
    "from pyspark.sql import SparkSession\n",
    "spark = SparkSession.builder.master(\"local[*]\") \\\n",
    "                    .appName('testapp') \\\n",
    "                    .getOrCreate()"
   ]
  },
  {
   "cell_type": "code",
   "execution_count": 10,
   "id": "6168e7f8",
   "metadata": {},
   "outputs": [
    {
     "name": "stderr",
     "output_type": "stream",
     "text": [
      "                                                                                \r"
     ]
    }
   ],
   "source": [
    "green_df = spark.read.option(\"header\", \"true\"). \\\n",
    "                    option(\"inferschema\", \"true\") \\\n",
    "                    .csv(\"../../data_files/green/raw/green_tripdata_2019-01.csv.gz\")"
   ]
  },
  {
   "cell_type": "code",
   "execution_count": 12,
   "id": "a8302ace",
   "metadata": {},
   "outputs": [
    {
     "name": "stdout",
     "output_type": "stream",
     "text": [
      "root\n",
      " |-- VendorID: integer (nullable = true)\n",
      " |-- lpep_pickup_datetime: timestamp (nullable = true)\n",
      " |-- lpep_dropoff_datetime: timestamp (nullable = true)\n",
      " |-- store_and_fwd_flag: string (nullable = true)\n",
      " |-- RatecodeID: integer (nullable = true)\n",
      " |-- PULocationID: integer (nullable = true)\n",
      " |-- DOLocationID: integer (nullable = true)\n",
      " |-- passenger_count: integer (nullable = true)\n",
      " |-- trip_distance: double (nullable = true)\n",
      " |-- fare_amount: double (nullable = true)\n",
      " |-- extra: double (nullable = true)\n",
      " |-- mta_tax: double (nullable = true)\n",
      " |-- tip_amount: double (nullable = true)\n",
      " |-- tolls_amount: double (nullable = true)\n",
      " |-- ehail_fee: string (nullable = true)\n",
      " |-- improvement_surcharge: double (nullable = true)\n",
      " |-- total_amount: double (nullable = true)\n",
      " |-- payment_type: integer (nullable = true)\n",
      " |-- trip_type: integer (nullable = true)\n",
      " |-- congestion_surcharge: double (nullable = true)\n",
      "\n"
     ]
    }
   ],
   "source": [
    "green_df.printSchema()"
   ]
  },
  {
   "cell_type": "code",
   "execution_count": 13,
   "id": "c249e96f",
   "metadata": {},
   "outputs": [
    {
     "name": "stderr",
     "output_type": "stream",
     "text": [
      "                                                                                \r"
     ]
    }
   ],
   "source": [
    "green_pq_location = \"../../data_files/green/pq/\"\n",
    "green_df.write.mode('overwrite').parquet(green_pq_location)"
   ]
  },
  {
   "cell_type": "code",
   "execution_count": 15,
   "id": "68646d56",
   "metadata": {},
   "outputs": [
    {
     "name": "stdout",
     "output_type": "stream",
     "text": [
      "\u001b[1;36m../../data_files/green\u001b[0m\r\n",
      "├── \u001b[1;36mpq\u001b[0m\r\n",
      "│   ├── _SUCCESS\r\n",
      "│   └── part-00000-8389e094-fa72-49f5-a4c8-0f5051eb653c-c000.snappy.parquet\r\n",
      "└── \u001b[1;36mraw\u001b[0m\r\n",
      "    └── green_tripdata_2019-01.csv.gz\r\n",
      "\r\n",
      "3 directories, 3 files\r\n"
     ]
    }
   ],
   "source": [
    "!tree \"../../data_files/green\""
   ]
  },
  {
   "cell_type": "code",
   "execution_count": 19,
   "id": "65f42530",
   "metadata": {},
   "outputs": [
    {
     "name": "stdout",
     "output_type": "stream",
     "text": [
      "total 28800\r\n",
      "-rw-r--r--@ 1 sukumarsubudhi  staff     0B Jul 16 20:05 _SUCCESS\r\n",
      "-rw-r--r--@ 1 sukumarsubudhi  staff    14M Jul 16 20:05 part-00000-8389e094-fa72-49f5-a4c8-0f5051eb653c-c000.snappy.parquet\r\n"
     ]
    }
   ],
   "source": [
    "!ls -lh \"../../data_files/green/pq\""
   ]
  },
  {
   "cell_type": "code",
   "execution_count": 26,
   "id": "50707a0a",
   "metadata": {},
   "outputs": [
    {
     "name": "stderr",
     "output_type": "stream",
     "text": [
      "                                                                                \r"
     ]
    }
   ],
   "source": [
    "# The below is a dictionary consisting of the dataframes\n",
    "df_dict = dict()\n",
    "for color in [\"green\", \"yellow\"]:\n",
    "    df_dict[color] = spark.read.option(\"header\", \"true\") \\\n",
    "                    .option(\"inferschema\", \"true\") \\\n",
    "                    .format(\"csv\") \\\n",
    "                    .load(f\"../../data_files/{color}/raw/*\")"
   ]
  },
  {
   "cell_type": "code",
   "execution_count": 27,
   "id": "b648e030",
   "metadata": {},
   "outputs": [
    {
     "data": {
      "text/plain": [
       "dict_keys(['green', 'yellow'])"
      ]
     },
     "execution_count": 27,
     "metadata": {},
     "output_type": "execute_result"
    }
   ],
   "source": [
    "df_dict.keys()"
   ]
  },
  {
   "cell_type": "code",
   "execution_count": null,
   "id": "aae42478",
   "metadata": {},
   "outputs": [],
   "source": []
  }
 ],
 "metadata": {
  "kernelspec": {
   "display_name": "Python 3 (ipykernel)",
   "language": "python",
   "name": "python3"
  },
  "language_info": {
   "codemirror_mode": {
    "name": "ipython",
    "version": 3
   },
   "file_extension": ".py",
   "mimetype": "text/x-python",
   "name": "python",
   "nbconvert_exporter": "python",
   "pygments_lexer": "ipython3",
   "version": "3.8.16"
  }
 },
 "nbformat": 4,
 "nbformat_minor": 5
}
