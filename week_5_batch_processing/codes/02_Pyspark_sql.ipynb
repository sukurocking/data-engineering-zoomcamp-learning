{
 "cells": [
  {
   "cell_type": "code",
   "execution_count": 1,
   "id": "9c8a482f",
   "metadata": {},
   "outputs": [],
   "source": [
    "### Steps of a sample mini-project on creating a report on green and yellow taxi data\n",
    "# 1. Reading data from pq folder (both yellow and green taxi data)\n",
    "# 2. Picking the common columns from both yellow and green taxi data\n",
    "# 3. Merging the yellow and green taxi data\n",
    "# 4. Summarizing the yellow and green taxi data with no. of records, sum trip amount"
   ]
  },
  {
   "cell_type": "code",
   "execution_count": 1,
   "id": "88b98f01",
   "metadata": {},
   "outputs": [
    {
     "name": "stderr",
     "output_type": "stream",
     "text": [
      "23/07/22 13:18:54 WARN Utils: Your hostname, MacBook-Air-2.local resolves to a loopback address: 127.0.0.1; using 192.168.29.110 instead (on interface en0)\n",
      "23/07/22 13:18:54 WARN Utils: Set SPARK_LOCAL_IP if you need to bind to another address\n",
      "Setting default log level to \"WARN\".\n",
      "To adjust logging level use sc.setLogLevel(newLevel). For SparkR, use setLogLevel(newLevel).\n",
      "23/07/22 13:18:55 WARN NativeCodeLoader: Unable to load native-hadoop library for your platform... using builtin-java classes where applicable\n"
     ]
    }
   ],
   "source": [
    "# Below step reads the csv.gz file and converts to parquet format\n",
    "# This may not be required in the final code \n",
    "from pyspark.sql import SparkSession\n",
    "spark = SparkSession.builder.master(\"local[*]\") \\\n",
    "                    .appName('testapp') \\\n",
    "                    .getOrCreate()"
   ]
  },
  {
   "cell_type": "code",
   "execution_count": 10,
   "id": "23c57750",
   "metadata": {},
   "outputs": [
    {
     "name": "stderr",
     "output_type": "stream",
     "text": [
      "                                                                                \r"
     ]
    }
   ],
   "source": [
    "green_df = spark.read.option(\"header\", \"true\"). \\\n",
    "                    option(\"inferschema\", \"true\") \\\n",
    "                    .csv(\"../../data_files/green/raw/green_tripdata_2019-01.csv.gz\")"
   ]
  },
  {
   "cell_type": "code",
   "execution_count": 12,
   "id": "8fbd1a2e",
   "metadata": {},
   "outputs": [
    {
     "name": "stdout",
     "output_type": "stream",
     "text": [
      "root\n",
      " |-- VendorID: integer (nullable = true)\n",
      " |-- lpep_pickup_datetime: timestamp (nullable = true)\n",
      " |-- lpep_dropoff_datetime: timestamp (nullable = true)\n",
      " |-- store_and_fwd_flag: string (nullable = true)\n",
      " |-- RatecodeID: integer (nullable = true)\n",
      " |-- PULocationID: integer (nullable = true)\n",
      " |-- DOLocationID: integer (nullable = true)\n",
      " |-- passenger_count: integer (nullable = true)\n",
      " |-- trip_distance: double (nullable = true)\n",
      " |-- fare_amount: double (nullable = true)\n",
      " |-- extra: double (nullable = true)\n",
      " |-- mta_tax: double (nullable = true)\n",
      " |-- tip_amount: double (nullable = true)\n",
      " |-- tolls_amount: double (nullable = true)\n",
      " |-- ehail_fee: string (nullable = true)\n",
      " |-- improvement_surcharge: double (nullable = true)\n",
      " |-- total_amount: double (nullable = true)\n",
      " |-- payment_type: integer (nullable = true)\n",
      " |-- trip_type: integer (nullable = true)\n",
      " |-- congestion_surcharge: double (nullable = true)\n",
      "\n"
     ]
    }
   ],
   "source": [
    "green_df.printSchema()"
   ]
  },
  {
   "cell_type": "code",
   "execution_count": 13,
   "id": "b21f321d",
   "metadata": {},
   "outputs": [
    {
     "name": "stderr",
     "output_type": "stream",
     "text": [
      "                                                                                \r"
     ]
    }
   ],
   "source": [
    "green_pq_location = \"../../data_files/green/pq/\"\n",
    "green_df.write.mode('overwrite').parquet(green_pq_location)"
   ]
  },
  {
   "cell_type": "code",
   "execution_count": 15,
   "id": "b23a7402",
   "metadata": {},
   "outputs": [
    {
     "name": "stdout",
     "output_type": "stream",
     "text": [
      "\u001b[1;36m../../data_files/green\u001b[0m\r\n",
      "├── \u001b[1;36mpq\u001b[0m\r\n",
      "│   ├── _SUCCESS\r\n",
      "│   └── part-00000-8389e094-fa72-49f5-a4c8-0f5051eb653c-c000.snappy.parquet\r\n",
      "└── \u001b[1;36mraw\u001b[0m\r\n",
      "    └── green_tripdata_2019-01.csv.gz\r\n",
      "\r\n",
      "3 directories, 3 files\r\n"
     ]
    }
   ],
   "source": [
    "!tree \"../../data_files/green\""
   ]
  },
  {
   "cell_type": "code",
   "execution_count": 19,
   "id": "47560513",
   "metadata": {},
   "outputs": [
    {
     "name": "stdout",
     "output_type": "stream",
     "text": [
      "total 28800\r\n",
      "-rw-r--r--@ 1 sukumarsubudhi  staff     0B Jul 16 20:05 _SUCCESS\r\n",
      "-rw-r--r--@ 1 sukumarsubudhi  staff    14M Jul 16 20:05 part-00000-8389e094-fa72-49f5-a4c8-0f5051eb653c-c000.snappy.parquet\r\n"
     ]
    }
   ],
   "source": [
    "!ls -lh \"../../data_files/green/pq\""
   ]
  },
  {
   "cell_type": "code",
   "execution_count": 2,
   "id": "59f7f07d",
   "metadata": {},
   "outputs": [],
   "source": [
    "colors = [\"green\", \"yellow\"]"
   ]
  },
  {
   "cell_type": "code",
   "execution_count": 3,
   "id": "f75530d7",
   "metadata": {},
   "outputs": [
    {
     "name": "stderr",
     "output_type": "stream",
     "text": [
      "                                                                                \r"
     ]
    }
   ],
   "source": [
    "# The below is a dictionary consisting of the dataframes\n",
    "df_dict = dict()\n",
    "for color in colors:\n",
    "    df_dict[color] = spark.read.option(\"header\", \"true\") \\\n",
    "                    .option(\"inferschema\", \"true\") \\\n",
    "                    .format(\"csv\") \\\n",
    "                    .load(f\"../../data_files/{color}/raw/*\")"
   ]
  },
  {
   "cell_type": "code",
   "execution_count": 4,
   "id": "542c6811",
   "metadata": {},
   "outputs": [],
   "source": [
    "from pyspark.sql import functions as f\n",
    "for color in colors:\n",
    "    df_dict[color] = df_dict[color].withColumn(\"servicetype\", f.lit(color))"
   ]
  },
  {
   "cell_type": "code",
   "execution_count": 5,
   "id": "9ec72e99",
   "metadata": {},
   "outputs": [
    {
     "data": {
      "text/plain": [
       "dict_keys(['green', 'yellow'])"
      ]
     },
     "execution_count": 5,
     "metadata": {},
     "output_type": "execute_result"
    }
   ],
   "source": [
    "df_dict.keys()"
   ]
  },
  {
   "cell_type": "code",
   "execution_count": 6,
   "id": "7c709a12",
   "metadata": {},
   "outputs": [
    {
     "name": "stdout",
     "output_type": "stream",
     "text": [
      "root\n",
      " |-- VendorID: integer (nullable = true)\n",
      " |-- lpep_pickup_datetime: timestamp (nullable = true)\n",
      " |-- lpep_dropoff_datetime: timestamp (nullable = true)\n",
      " |-- store_and_fwd_flag: string (nullable = true)\n",
      " |-- RatecodeID: integer (nullable = true)\n",
      " |-- PULocationID: integer (nullable = true)\n",
      " |-- DOLocationID: integer (nullable = true)\n",
      " |-- passenger_count: integer (nullable = true)\n",
      " |-- trip_distance: double (nullable = true)\n",
      " |-- fare_amount: double (nullable = true)\n",
      " |-- extra: double (nullable = true)\n",
      " |-- mta_tax: double (nullable = true)\n",
      " |-- tip_amount: double (nullable = true)\n",
      " |-- tolls_amount: double (nullable = true)\n",
      " |-- ehail_fee: string (nullable = true)\n",
      " |-- improvement_surcharge: double (nullable = true)\n",
      " |-- total_amount: double (nullable = true)\n",
      " |-- payment_type: integer (nullable = true)\n",
      " |-- trip_type: integer (nullable = true)\n",
      " |-- congestion_surcharge: double (nullable = true)\n",
      " |-- servicetype: string (nullable = false)\n",
      "\n"
     ]
    }
   ],
   "source": [
    "df_dict[\"green\"].printSchema()"
   ]
  },
  {
   "cell_type": "code",
   "execution_count": 6,
   "id": "6bbdf691",
   "metadata": {},
   "outputs": [
    {
     "name": "stdout",
     "output_type": "stream",
     "text": [
      "root\n",
      " |-- VendorID: integer (nullable = true)\n",
      " |-- tpep_pickup_datetime: timestamp (nullable = true)\n",
      " |-- tpep_dropoff_datetime: timestamp (nullable = true)\n",
      " |-- passenger_count: integer (nullable = true)\n",
      " |-- trip_distance: double (nullable = true)\n",
      " |-- RatecodeID: integer (nullable = true)\n",
      " |-- store_and_fwd_flag: string (nullable = true)\n",
      " |-- PULocationID: integer (nullable = true)\n",
      " |-- DOLocationID: integer (nullable = true)\n",
      " |-- payment_type: integer (nullable = true)\n",
      " |-- fare_amount: double (nullable = true)\n",
      " |-- extra: double (nullable = true)\n",
      " |-- mta_tax: double (nullable = true)\n",
      " |-- tip_amount: double (nullable = true)\n",
      " |-- tolls_amount: double (nullable = true)\n",
      " |-- improvement_surcharge: double (nullable = true)\n",
      " |-- total_amount: double (nullable = true)\n",
      " |-- congestion_surcharge: double (nullable = true)\n",
      " |-- servicetype: string (nullable = false)\n",
      "\n"
     ]
    }
   ],
   "source": [
    "df_dict[\"yellow\"].printSchema()"
   ]
  },
  {
   "cell_type": "code",
   "execution_count": 10,
   "id": "742b2d35",
   "metadata": {},
   "outputs": [],
   "source": [
    "# Renaming the pickup and dropoff columns\n",
    "df_dict[\"green\"] = df_dict[\"green\"].withColumnsRenamed(\n",
    "                                    {\"lpep_pickup_datetime\":\"pickup_datetime\", \n",
    "                                     \"lpep_dropoff_datetime\" : \"dropoff_datetime\"}\n",
    "                                    )\n",
    "df_dict[\"yellow\"] = df_dict[\"yellow\"].withColumnsRenamed(\n",
    "                                    {\"tpep_pickup_datetime\":\"pickup_datetime\", \n",
    "                                     \"tpep_dropoff_datetime\" : \"dropoff_datetime\"}\n",
    "                                    )"
   ]
  },
  {
   "cell_type": "code",
   "execution_count": 9,
   "id": "414cbdf9",
   "metadata": {},
   "outputs": [
    {
     "data": {
      "text/plain": [
       "21"
      ]
     },
     "execution_count": 9,
     "metadata": {},
     "output_type": "execute_result"
    }
   ],
   "source": [
    "len(df_dict[\"green\"].columns)"
   ]
  },
  {
   "cell_type": "code",
   "execution_count": 10,
   "id": "3a61ef98",
   "metadata": {},
   "outputs": [
    {
     "data": {
      "text/plain": [
       "19"
      ]
     },
     "execution_count": 10,
     "metadata": {},
     "output_type": "execute_result"
    }
   ],
   "source": [
    "len(df_dict[\"yellow\"].columns)"
   ]
  },
  {
   "cell_type": "code",
   "execution_count": 7,
   "id": "ab588193",
   "metadata": {},
   "outputs": [],
   "source": [
    "common_columns = [\n",
    " 'VendorID',\n",
    " 'pickup_datetime',\n",
    " 'dropoff_datetime',\n",
    " 'passenger_count',\n",
    " 'trip_distance',\n",
    " 'RatecodeID',\n",
    " 'store_and_fwd_flag',\n",
    " 'PULocationID',\n",
    " 'DOLocationID',\n",
    " 'payment_type',\n",
    " 'fare_amount',\n",
    " 'extra',\n",
    " 'mta_tax',\n",
    " 'tip_amount',\n",
    " 'tolls_amount',\n",
    " 'improvement_surcharge',\n",
    " 'total_amount',\n",
    " 'congestion_surcharge',\n",
    " 'servicetype'\n",
    "]"
   ]
  },
  {
   "cell_type": "code",
   "execution_count": 8,
   "id": "418c8b27",
   "metadata": {},
   "outputs": [
    {
     "name": "stdout",
     "output_type": "stream",
     "text": [
      "19\n"
     ]
    }
   ],
   "source": [
    "print(len(common_columns))"
   ]
  },
  {
   "cell_type": "code",
   "execution_count": 11,
   "id": "2c333d5c",
   "metadata": {},
   "outputs": [],
   "source": [
    "df_dict_to_merge = {} #Initializing a dictionary of the merged dataframes\n",
    "#This below step merges the yellow and green taxi dataframes\n",
    "for color in [\"green\", \"yellow\"]:\n",
    "    df_dict_to_merge[color] = df_dict[color].select(common_columns)"
   ]
  },
  {
   "cell_type": "code",
   "execution_count": 12,
   "id": "7999ece0",
   "metadata": {},
   "outputs": [
    {
     "name": "stdout",
     "output_type": "stream",
     "text": [
      "+--------+-------------------+-------------------+---------------+-------------+----------+------------------+------------+------------+------------+-----------+-----+-------+----------+------------+---------------------+------------+--------------------+-----------+\n",
      "|VendorID|    pickup_datetime|   dropoff_datetime|passenger_count|trip_distance|RatecodeID|store_and_fwd_flag|PULocationID|DOLocationID|payment_type|fare_amount|extra|mta_tax|tip_amount|tolls_amount|improvement_surcharge|total_amount|congestion_surcharge|servicetype|\n",
      "+--------+-------------------+-------------------+---------------+-------------+----------+------------------+------------+------------+------------+-----------+-----+-------+----------+------------+---------------------+------------+--------------------+-----------+\n",
      "|       1|2019-01-01 00:46:40|2019-01-01 00:53:20|              1|          1.5|         1|                 N|         151|         239|           1|        7.0|  0.5|    0.5|      1.65|         0.0|                  0.3|        9.95|                null|     yellow|\n",
      "|       1|2019-01-01 00:59:47|2019-01-01 01:18:59|              1|          2.6|         1|                 N|         239|         246|           1|       14.0|  0.5|    0.5|       1.0|         0.0|                  0.3|        16.3|                null|     yellow|\n",
      "|       2|2018-12-21 13:48:30|2018-12-21 13:52:40|              3|          0.0|         1|                 N|         236|         236|           1|        4.5|  0.5|    0.5|       0.0|         0.0|                  0.3|         5.8|                null|     yellow|\n",
      "|       2|2018-11-28 15:52:25|2018-11-28 15:55:45|              5|          0.0|         1|                 N|         193|         193|           2|        3.5|  0.5|    0.5|       0.0|         0.0|                  0.3|        7.55|                null|     yellow|\n",
      "|       2|2018-11-28 15:56:57|2018-11-28 15:58:33|              5|          0.0|         2|                 N|         193|         193|           2|       52.0|  0.0|    0.5|       0.0|         0.0|                  0.3|       55.55|                null|     yellow|\n",
      "+--------+-------------------+-------------------+---------------+-------------+----------+------------------+------------+------------+------------+-----------+-----+-------+----------+------------+---------------------+------------+--------------------+-----------+\n",
      "only showing top 5 rows\n",
      "\n"
     ]
    }
   ],
   "source": [
    "df_dict_to_merge[\"yellow\"].show(5)"
   ]
  },
  {
   "cell_type": "code",
   "execution_count": 13,
   "id": "94b0dab5",
   "metadata": {},
   "outputs": [],
   "source": [
    "# Merging the dataframes\n",
    "df_final = df_dict_to_merge[\"green\"].unionAll(df_dict_to_merge[\"yellow\"])"
   ]
  },
  {
   "cell_type": "code",
   "execution_count": 14,
   "id": "cdf228e8",
   "metadata": {},
   "outputs": [
    {
     "name": "stdout",
     "output_type": "stream",
     "text": [
      "root\n",
      " |-- VendorID: integer (nullable = true)\n",
      " |-- pickup_datetime: timestamp (nullable = true)\n",
      " |-- dropoff_datetime: timestamp (nullable = true)\n",
      " |-- passenger_count: integer (nullable = true)\n",
      " |-- trip_distance: double (nullable = true)\n",
      " |-- RatecodeID: integer (nullable = true)\n",
      " |-- store_and_fwd_flag: string (nullable = true)\n",
      " |-- PULocationID: integer (nullable = true)\n",
      " |-- DOLocationID: integer (nullable = true)\n",
      " |-- payment_type: integer (nullable = true)\n",
      " |-- fare_amount: double (nullable = true)\n",
      " |-- extra: double (nullable = true)\n",
      " |-- mta_tax: double (nullable = true)\n",
      " |-- tip_amount: double (nullable = true)\n",
      " |-- tolls_amount: double (nullable = true)\n",
      " |-- improvement_surcharge: double (nullable = true)\n",
      " |-- total_amount: double (nullable = true)\n",
      " |-- congestion_surcharge: double (nullable = true)\n",
      " |-- servicetype: string (nullable = false)\n",
      "\n"
     ]
    }
   ],
   "source": [
    "df_final.printSchema()"
   ]
  },
  {
   "cell_type": "code",
   "execution_count": 15,
   "id": "96c19d73",
   "metadata": {},
   "outputs": [
    {
     "name": "stderr",
     "output_type": "stream",
     "text": [
      "[Stage 5:=============================>                             (1 + 1) / 2]\r"
     ]
    },
    {
     "name": "stdout",
     "output_type": "stream",
     "text": [
      "+-----------+\n",
      "|servicetype|\n",
      "+-----------+\n",
      "|      green|\n",
      "|     yellow|\n",
      "+-----------+\n",
      "\n"
     ]
    },
    {
     "name": "stderr",
     "output_type": "stream",
     "text": [
      "\r",
      "                                                                                \r"
     ]
    }
   ],
   "source": [
    "df_final.select(\"servicetype\").distinct().show()"
   ]
  },
  {
   "cell_type": "code",
   "execution_count": 16,
   "id": "6e26e3c6",
   "metadata": {},
   "outputs": [],
   "source": [
    "df_final.createOrReplaceTempView(\"df_sql_view\")"
   ]
  },
  {
   "cell_type": "code",
   "execution_count": 17,
   "id": "eb4c7a94",
   "metadata": {},
   "outputs": [],
   "source": [
    "# Group by servicetype to get the summary of amount columns\n",
    "df_summary = spark.sql(\"\"\"\n",
    "\n",
    "select \n",
    "    -- Grouping\n",
    "    servicetype,\n",
    "    DATE_TRUNC(\"month\", pickup_datetime) as pickup_month,\n",
    "    PULocationID as zone,\n",
    "    \n",
    "    -- Revenue columns\n",
    "    sum(total_amount) as revenue_monthly_total_amt,\n",
    "    sum(tip_amount) as revenue_monthly_tip_amt,\n",
    "    sum(fare_amount) as revenue_monthly_fare_amt\n",
    "from df_sql_view\n",
    "group by 1, 2, 3\n",
    "\"\"\")"
   ]
  },
  {
   "cell_type": "code",
   "execution_count": 18,
   "id": "737a13aa",
   "metadata": {},
   "outputs": [
    {
     "name": "stderr",
     "output_type": "stream",
     "text": [
      "[Stage 8:=============================>                             (1 + 1) / 2]\r"
     ]
    },
    {
     "name": "stdout",
     "output_type": "stream",
     "text": [
      "+-----------+-------------------+----+-------------------------+-----------------------+------------------------+\n",
      "|servicetype|       pickup_month|zone|revenue_monthly_total_amt|revenue_monthly_tip_amt|revenue_monthly_fare_amt|\n",
      "+-----------+-------------------+----+-------------------------+-----------------------+------------------------+\n",
      "|      green|2019-01-01 00:00:00| 116|       120681.19000001065|      7693.839999999978|      102836.90999999996|\n",
      "|      green|2019-01-01 00:00:00| 213|         47872.0200000005|     151.00000000000003|       44194.31999999997|\n",
      "|      green|2019-01-01 00:00:00|  34|       2696.8100000000036|     222.73999999999995|                 2251.15|\n",
      "|      green|2019-01-01 00:00:00| 115|       2680.9100000000003|                  14.56|                 2185.39|\n",
      "|      green|2019-01-01 00:00:00| 193|        29960.48999999926|     1697.1100000000006|       24610.22000000002|\n",
      "|      green|2019-01-01 00:00:00| 190|        6770.530000000027|      418.2400000000001|       5849.769999999999|\n",
      "|      green|2019-01-01 00:00:00| 172|                   384.93|                    4.4|                  310.97|\n",
      "|      green|2019-01-01 00:00:00| 170|        726.5799999999998|                  27.88|                  612.56|\n",
      "|      green|2019-01-01 00:00:00| 185|        22008.78999999968|                 104.31|      20360.539999999997|\n",
      "|      green|2019-01-01 00:00:00| 217|       12355.449999999928|     160.69999999999996|      11393.609999999997|\n",
      "|      green|2019-01-01 00:00:00| 169|       25260.409999999636|     126.85000000000001|      23350.359999999993|\n",
      "|      green|2019-01-01 00:00:00|  70|       11948.089999999944|     145.57000000000002|      10760.240000000003|\n",
      "|      green|2019-01-01 00:00:00| 265|        7569.090000000015|     306.65999999999997|       6907.590000000001|\n",
      "|      green|2019-01-01 00:00:00|  83|       39493.520000000106|      1978.730000000001|       33668.80000000001|\n",
      "|      green|2019-01-01 00:00:00| 257|       13476.019999999911|     373.33000000000004|      12027.720000000007|\n",
      "|      green|2019-01-01 00:00:00| 204|                   179.44|                    0.0|                   153.5|\n",
      "|      green|2019-01-01 00:00:00| 187|                   263.74|                    0.0|      220.82000000000002|\n",
      "|      green|2019-01-01 00:00:00| 249|                   101.56|     13.260000000000002|                    76.0|\n",
      "|      green|2019-01-01 00:00:00|  90|       159.50000000000003|                   26.4|                   118.0|\n",
      "|      green|2019-01-01 00:00:00| 220|       31184.509999999602|      276.7999999999999|      28783.229999999996|\n",
      "+-----------+-------------------+----+-------------------------+-----------------------+------------------------+\n",
      "only showing top 20 rows\n",
      "\n"
     ]
    },
    {
     "name": "stderr",
     "output_type": "stream",
     "text": [
      "\r",
      "                                                                                \r"
     ]
    }
   ],
   "source": [
    "df_summary.show()"
   ]
  },
  {
   "cell_type": "code",
   "execution_count": 20,
   "id": "363536e0",
   "metadata": {},
   "outputs": [
    {
     "name": "stderr",
     "output_type": "stream",
     "text": [
      "                                                                                \r"
     ]
    }
   ],
   "source": [
    "df_summary.write.parquet(\"../../data_files/report/report-2019/\")"
   ]
  },
  {
   "cell_type": "code",
   "execution_count": 21,
   "id": "124640d0",
   "metadata": {},
   "outputs": [
    {
     "name": "stdout",
     "output_type": "stream",
     "text": [
      "\u001b[1;36m../../data_files/\u001b[0m\r\n",
      "├── \u001b[1;36mgreen\u001b[0m\r\n",
      "│   ├── \u001b[1;36mpq\u001b[0m\r\n",
      "│   │   ├── _SUCCESS\r\n",
      "│   │   └── part-00000-8389e094-fa72-49f5-a4c8-0f5051eb653c-c000.snappy.parquet\r\n",
      "│   └── \u001b[1;36mraw\u001b[0m\r\n",
      "│       └── green_tripdata_2019-01.csv.gz\r\n",
      "├── \u001b[1;36mreport\u001b[0m\r\n",
      "│   └── \u001b[1;36mreport-2019\u001b[0m\r\n",
      "│       ├── _SUCCESS\r\n",
      "│       └── part-00000-ecaffd6b-db6b-450b-8a10-f161f2801f95-c000.snappy.parquet\r\n",
      "└── \u001b[1;36myellow\u001b[0m\r\n",
      "    ├── \u001b[1;36mpq\u001b[0m\r\n",
      "    │   ├── _SUCCESS\r\n",
      "    │   ├── part-00000-c4f735d2-2be5-443d-90a5-b115f2d33d16-c000.snappy.parquet\r\n",
      "    │   ├── part-00001-c4f735d2-2be5-443d-90a5-b115f2d33d16-c000.snappy.parquet\r\n",
      "    │   ├── part-00002-c4f735d2-2be5-443d-90a5-b115f2d33d16-c000.snappy.parquet\r\n",
      "    │   └── part-00003-c4f735d2-2be5-443d-90a5-b115f2d33d16-c000.snappy.parquet\r\n",
      "    └── \u001b[1;36mraw\u001b[0m\r\n",
      "        └── yellow_tripdata_2019-01.csv.gz\r\n",
      "\r\n",
      "9 directories, 11 files\r\n"
     ]
    }
   ],
   "source": [
    "!tree \"../../data_files/\""
   ]
  }
 ],
 "metadata": {
  "kernelspec": {
   "display_name": "Python 3 (ipykernel)",
   "language": "python",
   "name": "python3"
  },
  "language_info": {
   "codemirror_mode": {
    "name": "ipython",
    "version": 3
   },
   "file_extension": ".py",
   "mimetype": "text/x-python",
   "name": "python",
   "nbconvert_exporter": "python",
   "pygments_lexer": "ipython3",
   "version": "3.8.16"
  }
 },
 "nbformat": 4,
 "nbformat_minor": 5
}
